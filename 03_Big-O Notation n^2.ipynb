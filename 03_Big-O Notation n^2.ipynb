{
 "cells": [
  {
   "cell_type": "code",
   "execution_count": 3,
   "id": "a11de55d",
   "metadata": {},
   "outputs": [
    {
     "name": "stdout",
     "output_type": "stream",
     "text": [
      "True\n",
      "CPU times: user 117 µs, sys: 0 ns, total: 117 µs\n",
      "Wall time: 96.8 µs\n"
     ]
    }
   ],
   "source": [
    "%%time \n",
    "\n",
    "def anagram(s1, s2):\n",
    "    alist = list(s2.lower())\n",
    "\n",
    "    pos1 = 0\n",
    "    stillOK = True\n",
    "\n",
    "    while pos1 < len(s1.lower()) and stillOK:\n",
    "        pos2 = 0\n",
    "        found = False\n",
    "        while pos2 < len(alist) and not found:\n",
    "            if s1[pos1] == alist[pos2]:\n",
    "                found = True\n",
    "            else:\n",
    "                pos2 = pos2 + 1\n",
    "\n",
    "        if found:\n",
    "            alist[pos2] = None\n",
    "        else:\n",
    "            stillOK = False\n",
    "\n",
    "        pos1 = pos1 + 1\n",
    "\n",
    "    return stillOK\n",
    "\n",
    "\n",
    "w1 = 'samymasitas'\n",
    "w2 = 'masitassamy'\n",
    "\n",
    "print(anagram(w1.lower(), w2.lower()))"
   ]
  },
  {
   "cell_type": "code",
   "execution_count": null,
   "id": "ba299cb8",
   "metadata": {},
   "outputs": [],
   "source": []
  }
 ],
 "metadata": {
  "kernelspec": {
   "display_name": "conda_python3",
   "language": "python",
   "name": "conda_python3"
  },
  "language_info": {
   "codemirror_mode": {
    "name": "ipython",
    "version": 3
   },
   "file_extension": ".py",
   "mimetype": "text/x-python",
   "name": "python",
   "nbconvert_exporter": "python",
   "pygments_lexer": "ipython3",
   "version": "3.6.13"
  }
 },
 "nbformat": 4,
 "nbformat_minor": 5
}
