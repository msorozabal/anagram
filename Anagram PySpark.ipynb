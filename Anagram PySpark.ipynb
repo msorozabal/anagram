{
 "cells": [
  {
   "cell_type": "code",
   "execution_count": 1,
   "id": "f70bdbb7",
   "metadata": {},
   "outputs": [],
   "source": [
    "from pyspark import SparkContext\n",
    "from pyspark.sql import SparkSession\n",
    "\n",
    "spark = SparkSession.builder \\\n",
    "       .master(\"local[2]\") \\\n",
    "       .appName(\"anagram\") \\\n",
    "       .config(\"spark.driver.memory\", \"30g\")\\\n",
    "       .config(\"spark.cores.max\", \"4\") \\\n",
    "       .getOrCreate()\n",
    "\n",
    "sc = spark.sparkContext"
   ]
  },
  {
   "cell_type": "code",
   "execution_count": 8,
   "id": "626aa0a1",
   "metadata": {},
   "outputs": [
    {
     "name": "stdout",
     "output_type": "stream",
     "text": [
      "CPU times: user 2 µs, sys: 0 ns, total: 2 µs\n",
      "Wall time: 5.72 µs\n"
     ]
    }
   ],
   "source": [
    "%time\n",
    "\n",
    "origin = [\"SamyMasitas\", \"masitassamy\", \"cualquiercosa\", \"malEna\", \"Lemana\", \"listen\", \"pepe\", \"papafrita\", \"Conservación\", \"Conversación\", \"elvis\", \"lives\", \"silent\", \"percussion\",  \"supersonic\"]\n",
    "\n",
    "origin_rdd = sc.parallelize(origin)\n",
    "origin_kv = origin_rdd.map(lambda word: (\"\".join(sorted([letter for letter in word])),[word]))\n",
    "res = origin_kv.reduceByKey(lambda word1,word2: word1 + word2)"
   ]
  },
  {
   "cell_type": "code",
   "execution_count": 3,
   "id": "47cd6447",
   "metadata": {},
   "outputs": [
    {
     "name": "stdout",
     "output_type": "stream",
     "text": [
      "[('MSaaaimssty', ['SamyMasitas']), ('aaaimmsssty', ['masitassamy']), ('aacceiloqrsuu', ['cualquiercosa']), ('eilnst', ['listen', 'silent']), ('aaafipprt', ['papafrita']), ('eilsv', ['elvis', 'lives']), ('Eaalmn', ['malEna']), ('Laaemn', ['Lemana']), ('eepp', ['pepe']), ('Caceinnorsvó', ['Conservación', 'Conversación'])]\n"
     ]
    }
   ],
   "source": [
    "print(res.take(10))"
   ]
  },
  {
   "cell_type": "code",
   "execution_count": null,
   "id": "924e73b3",
   "metadata": {},
   "outputs": [],
   "source": []
  }
 ],
 "metadata": {
  "kernelspec": {
   "display_name": "conda_python3",
   "language": "python",
   "name": "conda_python3"
  },
  "language_info": {
   "codemirror_mode": {
    "name": "ipython",
    "version": 3
   },
   "file_extension": ".py",
   "mimetype": "text/x-python",
   "name": "python",
   "nbconvert_exporter": "python",
   "pygments_lexer": "ipython3",
   "version": "3.6.13"
  }
 },
 "nbformat": 4,
 "nbformat_minor": 5
}
