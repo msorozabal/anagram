{
 "cells": [
  {
   "cell_type": "code",
   "execution_count": 21,
   "id": "4ce74787",
   "metadata": {},
   "outputs": [
    {
     "name": "stdout",
     "output_type": "stream",
     "text": [
      "True\n",
      "CPU times: user 108 µs, sys: 16 µs, total: 124 µs\n",
      "Wall time: 99.9 µs\n"
     ]
    }
   ],
   "source": [
    "%%time\n",
    "\n",
    "def anagram(w1,w2):\n",
    "\n",
    "    TABLE_SIZE = 128\n",
    "    c1 = [0]*TABLE_SIZE\n",
    "    c2 = [0]*TABLE_SIZE\n",
    "\n",
    "    for ch in w1:\n",
    "        pos = ord(ch)\n",
    "        c1[pos] = c1[pos] + 1\n",
    "\n",
    "    for ch in w2:\n",
    "        pos = ord(ch)\n",
    "        c2[pos] = c2[pos] + 1\n",
    "\n",
    "    j = 0\n",
    "    stillOK = True\n",
    "    while j<TABLE_SIZE and stillOK:\n",
    "        if c1[j]==c2[j]:\n",
    "            j = j + 1\n",
    "        else:\n",
    "            stillOK = False\n",
    "\n",
    "    return stillOK\n",
    "\n",
    "w1 = 'samyMasitas'\n",
    "w2 = 'masitasSamy'\n",
    "\n",
    "print(anagram(w1.lower(), w2.lower()))"
   ]
  },
  {
   "cell_type": "code",
   "execution_count": 20,
   "id": "a3e95a2b",
   "metadata": {},
   "outputs": [],
   "source": [
    "#loop over both strings, counting the occurrences of each letter.\n",
    "#In the end, you can simply iterate over each letter, making sure the counts are equal."
   ]
  },
  {
   "cell_type": "code",
   "execution_count": null,
   "id": "f8205011",
   "metadata": {},
   "outputs": [],
   "source": []
  }
 ],
 "metadata": {
  "kernelspec": {
   "display_name": "conda_python3",
   "language": "python",
   "name": "conda_python3"
  },
  "language_info": {
   "codemirror_mode": {
    "name": "ipython",
    "version": 3
   },
   "file_extension": ".py",
   "mimetype": "text/x-python",
   "name": "python",
   "nbconvert_exporter": "python",
   "pygments_lexer": "ipython3",
   "version": "3.6.13"
  }
 },
 "nbformat": 4,
 "nbformat_minor": 5
}
