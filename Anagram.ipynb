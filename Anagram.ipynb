{
 "cells": [
  {
   "cell_type": "code",
   "execution_count": 2,
   "id": "927412e1",
   "metadata": {},
   "outputs": [
    {
     "name": "stdout",
     "output_type": "stream",
     "text": [
      "['samymasitas', 'masitassamy', 'malena', 'lemana', 'listen', 'Conservación', 'Conversación', 'elvis', 'lives', 'silent', 'percussion', 'supersonic']\n",
      "CPU times: user 401 µs, sys: 0 ns, total: 401 µs\n",
      "Wall time: 380 µs\n"
     ]
    }
   ],
   "source": [
    "%%time\n",
    "\n",
    "from collections import Counter, defaultdict\n",
    "word_list = [\"samymasitas\",\n",
    "             \"masitassamy\",\n",
    "             \"cualquiercosa\",\n",
    "             \"malena\",\n",
    "             \"lemana\",\n",
    "             \"listen\",\n",
    "             \"pepe\",\n",
    "             \"papafrita\",\n",
    "             \"Conservación\",\n",
    "             \"Conversación\",\n",
    "             \"elvis\",\n",
    "             \"lives\",\n",
    "             \"silent\",\n",
    "             \"percussion\",\n",
    "             \"supersonic\"]\n",
    "\n",
    "anagram_list = []\n",
    "for word_1 in word_list:\n",
    "    for word_2 in word_list: \n",
    "        if word_1 != word_2 and (sorted(word_1)==sorted(word_2)):\n",
    "            anagram_list.append(word_1)\n",
    "\n",
    "print(anagram_list)"
   ]
  },
  {
   "cell_type": "code",
   "execution_count": null,
   "id": "e2324b11",
   "metadata": {},
   "outputs": [],
   "source": []
  }
 ],
 "metadata": {
  "kernelspec": {
   "display_name": "conda_python3",
   "language": "python",
   "name": "conda_python3"
  },
  "language_info": {
   "codemirror_mode": {
    "name": "ipython",
    "version": 3
   },
   "file_extension": ".py",
   "mimetype": "text/x-python",
   "name": "python",
   "nbconvert_exporter": "python",
   "pygments_lexer": "ipython3",
   "version": "3.6.13"
  }
 },
 "nbformat": 4,
 "nbformat_minor": 5
}
