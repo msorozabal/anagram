{
 "cells": [
  {
   "cell_type": "code",
   "execution_count": 1,
   "id": "7dda0fff",
   "metadata": {},
   "outputs": [],
   "source": [
    "from pyspark import SparkContext\n",
    "from pyspark.sql import SparkSession\n",
    "\n",
    "spark = SparkSession.builder \\\n",
    "       .master(\"local[2]\") \\\n",
    "       .appName(\"anagram\") \\\n",
    "       .config(\"spark.driver.memory\", \"30g\")\\\n",
    "       .config(\"spark.cores.max\", \"4\") \\\n",
    "       .getOrCreate()\n",
    "\n",
    "sc = spark.sparkContext"
   ]
  },
  {
   "cell_type": "code",
   "execution_count": 20,
   "id": "b1ea4921",
   "metadata": {},
   "outputs": [
    {
     "name": "stdout",
     "output_type": "stream",
     "text": [
      "CPU times: user 2 µs, sys: 1 µs, total: 3 µs\n",
      "Wall time: 5.01 µs\n"
     ]
    }
   ],
   "source": [
    "%time\n",
    "\n",
    "origin = [\"SamyMasitas\", \"masitassamy\", \"cualquiercosa\", \"malEna\", \"Lemana\", \"listen\", \"pepe\", \"papafrita\", \"Conservación\", \"Conversación\", \"elvis\", \"lives\", \"silent\", \"percussion\",  \"supersonic\"]\n",
    "\n",
    "origin_rdd = sc.parallelize(origin)\n",
    "origin_kv = origin_rdd.map(lambda word: (\"\".join(sorted([letter for letter in word])),[word]))\n",
    "res = origin_kv.reduceByKey(lambda word1,word2: word1 + word2)"
   ]
  },
  {
   "cell_type": "code",
   "execution_count": 21,
   "id": "58b65dc1",
   "metadata": {},
   "outputs": [
    {
     "name": "stdout",
     "output_type": "stream",
     "text": [
      "[('MSaaaimssty', ['SamyMasitas']), ('aaaimmsssty', ['masitassamy']), ('aacceiloqrsuu', ['cualquiercosa']), ('eilnst', ['listen', 'silent']), ('aaafipprt', ['papafrita']), ('eilsv', ['elvis', 'lives']), ('Eaalmn', ['malEna']), ('Laaemn', ['Lemana']), ('eepp', ['pepe']), ('Caceinnorsvó', ['Conservación', 'Conversación'])]\n"
     ]
    }
   ],
   "source": [
    "print(res.take(10))"
   ]
  },
  {
   "cell_type": "code",
   "execution_count": null,
   "id": "f8fdf051",
   "metadata": {},
   "outputs": [],
   "source": []
  },
  {
   "cell_type": "code",
   "execution_count": null,
   "id": "cb5b1f1b",
   "metadata": {},
   "outputs": [],
   "source": []
  },
  {
   "cell_type": "code",
   "execution_count": null,
   "id": "dc147bb6",
   "metadata": {},
   "outputs": [],
   "source": []
  }
 ],
 "metadata": {
  "kernelspec": {
   "display_name": "conda_python3",
   "language": "python",
   "name": "conda_python3"
  },
  "language_info": {
   "codemirror_mode": {
    "name": "ipython",
    "version": 3
   },
   "file_extension": ".py",
   "mimetype": "text/x-python",
   "name": "python",
   "nbconvert_exporter": "python",
   "pygments_lexer": "ipython3",
   "version": "3.6.13"
  }
 },
 "nbformat": 4,
 "nbformat_minor": 5
}
