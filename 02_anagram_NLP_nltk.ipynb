{
 "cells": [
  {
   "cell_type": "code",
   "execution_count": 32,
   "id": "4c07a471",
   "metadata": {},
   "outputs": [
    {
     "name": "stdout",
     "output_type": "stream",
     "text": [
      "defaultdict(<class 'list'>, {'MSaaaimssty': ['SamyMasitas'], 'aaaimmsssty': ['masitassamy'], 'aacceiloqrsuu': ['cualquiercosa'], 'Eaalmn': ['malEna'], 'Laaemn': ['Lemana'], 'eilnst': ['listen', 'silent'], 'eepp': ['pepe'], 'aaafipprt': ['papafrita'], 'Caceinnorsvó': ['Conservación', 'Conversación'], 'eilsv': ['elvis', 'lives'], 'ceinoprssu': ['percussion', 'supersonic']})\n",
      "CPU times: user 161 µs, sys: 0 ns, total: 161 µs\n",
      "Wall time: 141 µs\n"
     ]
    }
   ],
   "source": [
    "%%time \n",
    "import nltk\n",
    "from collections import defaultdict\n",
    "\n",
    "\n",
    "last_letters = nltk.defaultdict(list)\n",
    "words = [\"SamyMasitas\", \"masitassamy\", \"cualquiercosa\", \"malEna\", \"Lemana\", \"listen\", \"pepe\", \"papafrita\", \"Conservación\", \"Conversación\", \"elvis\", \"lives\", \"silent\", \"percussion\",  \"supersonic\"]\n",
    "anagrams = defaultdict(list)\n",
    "\n",
    "anagrams = nltk.Index((''.join(sorted(w)), w) for w in words)\n",
    "\n",
    "print(anagrams)"
   ]
  }
 ],
 "metadata": {
  "kernelspec": {
   "display_name": "conda_python3",
   "language": "python",
   "name": "conda_python3"
  },
  "language_info": {
   "codemirror_mode": {
    "name": "ipython",
    "version": 3
   },
   "file_extension": ".py",
   "mimetype": "text/x-python",
   "name": "python",
   "nbconvert_exporter": "python",
   "pygments_lexer": "ipython3",
   "version": "3.6.13"
  }
 },
 "nbformat": 4,
 "nbformat_minor": 5
}
